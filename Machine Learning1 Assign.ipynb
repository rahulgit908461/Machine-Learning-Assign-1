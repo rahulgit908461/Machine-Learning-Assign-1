{
 "cells": [
  {
   "cell_type": "code",
   "execution_count": 1,
   "id": "3730439d-f73a-4ead-a5ee-32fadeaf03e7",
   "metadata": {},
   "outputs": [],
   "source": [
    "#Q1.- E=plain thK following with an example\n",
    "#1) Artificial Intelligence\n",
    "#2) Machine Learning\n",
    "#3) Deep Learning"
   ]
  },
  {
   "cell_type": "code",
   "execution_count": 2,
   "id": "053799b7-8c77-4e41-8c73-60a729a7e02b",
   "metadata": {},
   "outputs": [],
   "source": [
    "# AI -At its simplest form, artificial intelligence is a field, which combines computer science and robust \n",
    "#datasets, to enable problem-solving. It also encompasses sub-fields of machine learning and deep learning, \n",
    "#which are frequently mentioned in conjunction with artificial intelligence.\n",
    "#example , Auto Robots , Auto Pilot Cars , Self Driving Car\n",
    "#ML-ML is subset of AI it provide the stats tools so that can so analize , visualiz, predictive model,fore- \n",
    "# -casting\n",
    "#Exaples - Amozon.in , Netflix\n",
    "#DL-it is subset of machine learning to mimic the human brain \n",
    "# example -Objects Detection, Image Recognization,Recomandation system"
   ]
  },
  {
   "cell_type": "code",
   "execution_count": 3,
   "id": "fa4bf6eb-c145-461a-adbc-cec17bb7d18c",
   "metadata": {},
   "outputs": [],
   "source": [
    "#Q2- Supervised Learning and Example "
   ]
  },
  {
   "cell_type": "code",
   "execution_count": 4,
   "id": "c57afc7d-8876-490f-908c-1fad5ac01b0b",
   "metadata": {},
   "outputs": [],
   "source": [
    "#Supervised learning, also known as supervised machine learning, is a subcategory of machine learning and\n",
    "#artificial intelligence. It is defined by its use of labeled datasets to train algorithms that to classify \n",
    "#data or predict outcomes accurately.\n",
    "#Exaple - Example Student Preparation for Outcome is results Pass or Fail, by Hours Study and Play. , \n",
    "#Spam detection-organize spam and non-spam-related correspondences effectively"
   ]
  },
  {
   "cell_type": "code",
   "execution_count": 5,
   "id": "f096f38c-85ac-42a0-8f28-ce1795cff0cf",
   "metadata": {},
   "outputs": [],
   "source": [
    "#Q3. Unsupervised Learning, and exaple."
   ]
  },
  {
   "cell_type": "code",
   "execution_count": 6,
   "id": "2d20c13e-2222-4721-bb41-ebb73f9d2571",
   "metadata": {},
   "outputs": [],
   "source": [
    "# NO O/P , An example of unsupervised machine learning would be a case where a supermarket wants to increase \n",
    "#its revenue. It decides to implement a machine learning algorithm on its sold products' data. It was observed \n",
    "#that the customers who bought cereals more often tend to buy milk or those who buy eggs tend to buy bacon."
   ]
  },
  {
   "cell_type": "code",
   "execution_count": 8,
   "id": "eb733d28-72ee-4428-a2f9-47bb690f00ca",
   "metadata": {},
   "outputs": [],
   "source": [
    "#Q4.Diffrence B/W AI, ML, DL, DS"
   ]
  },
  {
   "cell_type": "code",
   "execution_count": 7,
   "id": "0a71e505-7364-476d-bb37-8f388d241169",
   "metadata": {},
   "outputs": [],
   "source": [
    "#Artificial Intelligence uses logic and decision trees. Machine Learning uses statistical models. \n",
    "#Data Science deals with structured and unstructured data. ML, and the main idea behind it is to make machines \n",
    "#learn by mimicking the human brain.\n"
   ]
  },
  {
   "cell_type": "code",
   "execution_count": 9,
   "id": "157f3763-59a7-4d26-a66e-e2c9786bdb99",
   "metadata": {},
   "outputs": [],
   "source": [
    "#Q5. Main Diff B/W Supervised , Unsupervised and Semi-Supervised "
   ]
  },
  {
   "cell_type": "code",
   "execution_count": 10,
   "id": "88a5a4f7-16a8-4b22-91ca-d885af465bd0",
   "metadata": {},
   "outputs": [],
   "source": [
    "#In supervised by input data output Feature Known , In Unsipervised by input data Unknown the output Outcome \n",
    "# comes like cluster or Backets of the data set, In semisupervised is combination of the supervised and \n",
    "#unsupervised data set"
   ]
  },
  {
   "cell_type": "code",
   "execution_count": 11,
   "id": "def66708-4fda-4cf5-bc00-5197d44088db",
   "metadata": {},
   "outputs": [],
   "source": [
    "#Q6. What is the Train , Test and validation split, Explain the importance of each term."
   ]
  },
  {
   "cell_type": "code",
   "execution_count": 12,
   "id": "5848e35d-1b4d-45d6-92a8-fbba404ca738",
   "metadata": {},
   "outputs": [],
   "source": [
    "#By using similar data for training and testing, you can minimize the effects of data discrepancies and better\n",
    "#understand the characteristics of the model. After a model has been processed by using the training set, you \n",
    "#test the model by making predictions against the test set"
   ]
  },
  {
   "cell_type": "code",
   "execution_count": 13,
   "id": "1c6b7071-5ba6-4530-877d-feeb92ffcc97",
   "metadata": {},
   "outputs": [],
   "source": [
    "#Q7. How can unsupervised learning be used in anomaly detection?"
   ]
  },
  {
   "cell_type": "code",
   "execution_count": 14,
   "id": "d2166d0f-01e2-43a9-a62b-f07ad0756165",
   "metadata": {},
   "outputs": [],
   "source": [
    "#Anomaly detection techniques of unsupervised nature assume that normal data points occur considerably more \n",
    "#frequently than anomalous data points. This assumption is used to classify data points that occur less \n",
    "#frequently as anomalies. Unsupervised techniques assign each data point a score instead of a label."
   ]
  },
  {
   "cell_type": "code",
   "execution_count": 15,
   "id": "c44a1c56-4be1-41c3-89f3-92ebe41e753d",
   "metadata": {},
   "outputs": [],
   "source": [
    "#Q8. List down some commonly used supervised learning algorithms and unsupervised learning algorithms."
   ]
  },
  {
   "cell_type": "code",
   "execution_count": 16,
   "id": "39984a12-57e9-46da-990f-e423c79d68ec",
   "metadata": {},
   "outputs": [],
   "source": [
    "#The most commonly used Supervised Learning algorithms are decision tree, logistic regression, linear \n",
    "#regression, support vector machine. The most commonly used Unsupervised Learning algorithms are k-means \n",
    "#clustering, hierarchical clustering, and apriori algorithm."
   ]
  },
  {
   "cell_type": "code",
   "execution_count": null,
   "id": "490df7d9-5718-4d15-a456-04bff15ba9a9",
   "metadata": {},
   "outputs": [],
   "source": []
  }
 ],
 "metadata": {
  "kernelspec": {
   "display_name": "Python 3 (ipykernel)",
   "language": "python",
   "name": "python3"
  },
  "language_info": {
   "codemirror_mode": {
    "name": "ipython",
    "version": 3
   },
   "file_extension": ".py",
   "mimetype": "text/x-python",
   "name": "python",
   "nbconvert_exporter": "python",
   "pygments_lexer": "ipython3",
   "version": "3.10.8"
  }
 },
 "nbformat": 4,
 "nbformat_minor": 5
}
